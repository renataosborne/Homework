{
 "cells": [
  {
   "cell_type": "code",
   "execution_count": 5,
   "metadata": {},
   "outputs": [
    {
     "data": {
      "text/plain": [
       "{'Electric': {'Pikachu': {'abilities': ['static', 'lightning-rod'],\n",
       "   'weight': 60}},\n",
       " 'Normal': {'Eevee': {'abilities': ['run-away',\n",
       "    'adaptability',\n",
       "    'anticipation'],\n",
       "   'weight': 65},\n",
       "  'Snorlax': {'abilities': ['immunity', 'thick-fat', 'gluttony'],\n",
       "   'weight': 4600},\n",
       "  'Ditto': {'abilities': ['limber', 'imposter'], 'weight': 40}},\n",
       " 'Fire': {'Charizard': {'abilities': ['blaze', 'solar-power'], 'weight': 905},\n",
       "  'Charmander': {'abilities': ['blaze', 'solar-power'], 'weight': 85}},\n",
       " 'Psychic': {'Mewtwo': {'abilities': ['pressure', 'unnerve'], 'weight': 1220}},\n",
       " 'Water': {'Squirtle': {'abilities': ['torrent', 'rain-dish'], 'weight': 90}},\n",
       " 'Ghost': {'Gengar': {'abilities': ['cursed-body'], 'weight': 405}}}"
      ]
     },
     "execution_count": 5,
     "metadata": {},
     "output_type": "execute_result"
    }
   ],
   "source": [
    "import requests, json\n",
    "response = requests.get('https://pokeapi.co/api/v2/pokemon/')\n",
    "\n",
    "class Pokemon():\n",
    "    _all = []\n",
    "    \n",
    "    def __init__(self):\n",
    "        self.name = None\n",
    "        self.abilities = None\n",
    "        self.weight = None\n",
    "        self.type = None\n",
    "        self._all.append(self)\n",
    "        \n",
    "\n",
    "    def from_dict(self, a_dict):\n",
    "        for field in ['name', 'abilities', 'weight', 'type']:\n",
    "            if field in a_dict:\n",
    "                setattr(self, field, a_dict[field])\n",
    "\n",
    "    @classmethod\n",
    "    def get_pokemons(self):\n",
    "        return [i for i in self._all]\n",
    "\n",
    "class Pokedex():\n",
    "    _list = []\n",
    "    api = 'https://pokeapi.co/api/v2/pokemon/'\n",
    "    \n",
    "    @classmethod\n",
    "    def generate_pokemon_from_api(cls, character):\n",
    "        r = requests.get(f\"{cls.api}/{character}\").json()\n",
    "        character_dict = {\n",
    "            'name': r['name'],\n",
    "            'abilities': [i['ability']['name'] for i in r['abilities']],\n",
    "            'weight': r['weight'],\n",
    "            'type': [i['type']['name'] for i in r['types']][0].title()\n",
    "        }\n",
    "        c = Pokemon()\n",
    "        c.from_dict(character_dict)\n",
    "        cls._list.append(c)\n",
    "        \n",
    "    @classmethod\n",
    "    def sort_by_category(cls):\n",
    "        \n",
    "        category_dict = {}\n",
    "        for pokemon in cls._list:\n",
    "            \n",
    "            pokemon_dict = {}\n",
    "            \n",
    "            if pokemon.type not in category_dict:\n",
    "               \n",
    "                category_dict[pokemon.type] = {}\n",
    "            category_dict[pokemon.type].update({\n",
    "                \n",
    "                pokemon.name.title(): {\n",
    "                   \n",
    "                    'abilities': pokemon.abilities,\n",
    "                    'weight': pokemon.weight\n",
    "                }\n",
    "            })\n",
    "       \n",
    "        return category_dict\n",
    "    \n",
    "pokemon_list = ['pikachu', 'eevee', 'snorlax', 'charizard', 'mewtwo', 'ditto', 'squirtle', 'gengar', 'charmander']\n",
    "\n",
    "for character in pokemon_list:\n",
    "    Pokedex.generate_pokemon_from_api(character)\n",
    "    \n",
    "Pokedex.sort_by_category()\n",
    "\n"
   ]
  },
  {
   "cell_type": "code",
   "execution_count": null,
   "metadata": {},
   "outputs": [],
   "source": [
    "       \n",
    "  "
   ]
  },
  {
   "cell_type": "code",
   "execution_count": null,
   "metadata": {},
   "outputs": [],
   "source": []
  }
 ],
 "metadata": {
  "kernelspec": {
   "display_name": "Python 3",
   "language": "python",
   "name": "python3"
  },
  "language_info": {
   "codemirror_mode": {
    "name": "ipython",
    "version": 3
   },
   "file_extension": ".py",
   "mimetype": "text/x-python",
   "name": "python",
   "nbconvert_exporter": "python",
   "pygments_lexer": "ipython3",
   "version": "3.8.3"
  }
 },
 "nbformat": 4,
 "nbformat_minor": 4
}
