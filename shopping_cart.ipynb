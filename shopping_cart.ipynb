{
 "cells": [
  {
   "cell_type": "code",
   "execution_count": null,
   "metadata": {
    "scrolled": true
   },
   "outputs": [],
   "source": [
    "products=['apple', 'orange','tomato', 'onion', 'pasta', 'mushrooms' ]\n",
    "shopping_list=[]\n",
    "input(\"What can I get you today? \")\n",
    "add_item=input(\"Add Item: \")\n",
    "checkout=input(\"Are you ready to checkout? [Y/N]\")\n",
    "\n",
    "if checkout == 'Y':\n",
    "        done = True\n",
    "        break\n",
    "            print(\"Thank you for you business\")\n",
    "elif checkout == 'Y':\n",
    "        for i in shopping_list:\n",
    "            print(i)\n",
    "else:\n",
    "        add_item=input(\"Add Item: \")\n",
    "        cart = {'item':products}\n",
    "        cart_list.append(cart)\n",
    "\n",
    "\n",
    "print(f\"Your cart summary {shipping_list}:\")\n",
    "\n",
    "#input(add, delete)\n",
    "#see current list\n",
    "#when you are done - quit =>print all items in the cart\n",
    "#if not in products print(\"Sorry this item is not available\")"
   ]
  },
  {
   "cell_type": "code",
   "execution_count": null,
   "metadata": {},
   "outputs": [],
   "source": [
    "products=['apple', 'orange','tomato', 'onion', 'pasta', 'mushrooms' ]\n",
    "input(\"What can I get you today? \")"
   ]
  },
  {
   "cell_type": "code",
   "execution_count": null,
   "metadata": {},
   "outputs": [],
   "source": [
    "   \n",
    "    if ask_for_input == 'quit':\n",
    "        done = True\n",
    "        break\n",
    "    elif ask_for_input == 'show':\n",
    "        for i in info_list:\n",
    "            print(i)\n",
    "    else:\n",
    "        name = input(\"What's your name? \")\n",
    "        address = input(\"What's your address? \")\n",
    "        info = {'name': name, 'address': address}\n",
    "        info_list.append(info)"
   ]
  }
 ],
 "metadata": {
  "kernelspec": {
   "display_name": "Python 3",
   "language": "python",
   "name": "python3"
  }
 },
 "nbformat": 4,
 "nbformat_minor": 4
}
