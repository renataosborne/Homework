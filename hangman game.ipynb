{
 "cells": [
  {
   "cell_type": "code",
   "execution_count": 14,
   "metadata": {},
   "outputs": [
    {
     "ename": "IndentationError",
     "evalue": "expected an indented block (<ipython-input-14-5d13cf624686>, line 20)",
     "output_type": "error",
     "traceback": [
      "\u001b[1;36m  File \u001b[1;32m\"<ipython-input-14-5d13cf624686>\"\u001b[1;36m, line \u001b[1;32m20\u001b[0m\n\u001b[1;33m    print(char)\u001b[0m\n\u001b[1;37m    ^\u001b[0m\n\u001b[1;31mIndentationError\u001b[0m\u001b[1;31m:\u001b[0m expected an indented block\n"
     ]
    }
   ],
   "source": [
    "import random\n",
    "import turtle\n",
    "\n",
    "words = ('eye', 'hat', 'cat', 'dog', 'tree', 'banana', 'plate', 'bike', 'table')\n",
    "word=random.choice(words)\n",
    "\n",
    "print  (\"The word is\", len(word), \"letters long.\")\n",
    "\n",
    "space = len(word)\n",
    "underscore = (\"_ \" * space)\n",
    "print(underscore)\n",
    "\n",
    "guess = ''\n",
    "turns = 7\n",
    "\n",
    "while turns > 0:\n",
    "    for char in word:\n",
    "        char = 0\n",
    "        if char in word:\n",
    "        print(char)\n",
    "        else: \n",
    "        print(\"_\")\n",
    "        one_failed += 1\n",
    "        if failed == 0:\n",
    "        break\n",
    "\n",
    " \n",
    "    print(\"You Win\") \n",
    "         \n",
    "    guess = input(\"guess a character:\")\n",
    "     \n",
    "    guess += guess \n",
    "     \n",
    "\n",
    "    if guess not in word:\n",
    "         \n",
    "        turns -= 1\n",
    "         \n",
    "\n",
    "        print(\"Wrong\")\n",
    "\n",
    "        print(\"You have\", + turns, 'more guesses')\n",
    "        if turns == 0:\n",
    "            print(\"You Loose\")"
   ]
  },
  {
   "cell_type": "code",
   "execution_count": null,
   "metadata": {},
   "outputs": [],
   "source": []
  },
  {
   "cell_type": "code",
   "execution_count": null,
   "metadata": {},
   "outputs": [],
   "source": []
  }
 ],
 "metadata": {
  "kernelspec": {
   "display_name": "Python 3",
   "language": "python",
   "name": "python3"
  },
  "language_info": {
   "codemirror_mode": {
    "name": "ipython",
    "version": 3
   },
   "file_extension": ".py",
   "mimetype": "text/x-python",
   "name": "python",
   "nbconvert_exporter": "python",
   "pygments_lexer": "ipython3",
   "version": "3.8.3"
  }
 },
 "nbformat": 4,
 "nbformat_minor": 4
}
